{
 "cells": [
  {
   "cell_type": "code",
   "execution_count": 90,
   "metadata": {},
   "outputs": [],
   "source": [
    "def read_file(path):\n",
    "    res = open(path, \"r\").readlines()\n",
    "    return [list(x.strip()) for x in res]\n",
    "\n",
    "\n",
    "input = read_file(\"input\")"
   ]
  },
  {
   "cell_type": "code",
   "execution_count": 91,
   "metadata": {},
   "outputs": [],
   "source": [
    "from itertools import combinations\n",
    "\n",
    "antenas = []\n",
    "\n",
    "for x, l in enumerate(input):\n",
    "    for y, c in enumerate(l):\n",
    "        if c != \".\":\n",
    "            antenas.append((c, x, y))\n",
    "\n",
    "pairs = []\n",
    "frequencies = list(set([c for c, _, _ in antenas]))\n",
    "for f in frequencies:\n",
    "    subset = [(c, x, y) for c, x, y in antenas if c == f]\n",
    "    pairs += combinations(subset, 2)\n",
    "\n",
    "antinodes = set()\n",
    "for p in pairs:\n",
    "    a1, a2 = p\n",
    "    _, x1, y1 = a1\n",
    "    _, x2, y2 = a2\n",
    "    dx, dy = x2 - x1, y2 - y1\n",
    "    antinode1 = (x1 + 2 * dx, y1 + 2 * dy)\n",
    "    antinode2 = (x2 - 2 * dx, y2 - 2 * dy)\n",
    "    for a in [antinode1, antinode2]:\n",
    "        ax, ay = a\n",
    "        if 0 <= ax < len(input) and 0 <= ay < len(input[0]):\n",
    "            antinodes.add(a)"
   ]
  },
  {
   "cell_type": "code",
   "execution_count": 92,
   "metadata": {},
   "outputs": [
    {
     "data": {
      "text/plain": [
       "409"
      ]
     },
     "execution_count": 92,
     "metadata": {},
     "output_type": "execute_result"
    }
   ],
   "source": [
    "len(antinodes)"
   ]
  },
  {
   "cell_type": "code",
   "execution_count": 93,
   "metadata": {},
   "outputs": [],
   "source": [
    "from itertools import combinations\n",
    "\n",
    "antenas = []\n",
    "\n",
    "for x, l in enumerate(input):\n",
    "    for y, c in enumerate(l):\n",
    "        if c != \".\":\n",
    "            antenas.append((c, x, y))\n",
    "\n",
    "pairs = []\n",
    "frequencies = list(set([c for c, _, _ in antenas]))\n",
    "for f in frequencies:\n",
    "    subset = [(c, x, y) for c, x, y in antenas if c == f]\n",
    "    pairs += combinations(subset, 2)\n",
    "\n",
    "antinodes = set()\n",
    "for p in pairs:\n",
    "    a1, a2 = p\n",
    "    _, x1, y1 = a1\n",
    "    _, x2, y2 = a2\n",
    "    dx, dy = x2 - x1, y2 - y1\n",
    "\n",
    "    # Go forward\n",
    "    maxr = len(input)\n",
    "    maxc = len(input[0])\n",
    "    n = 1\n",
    "    while 0 <= x1 + n * dx < maxr and 0 <= y1 + n * dy < maxc:\n",
    "        antinodes.add((x1 + n * dx, y1 + n * dy))\n",
    "        n += 1\n",
    "\n",
    "    n = -1\n",
    "    while 0 <= x2 + n * dx < maxr and 0 <= y2 + n * dy < maxc:\n",
    "        antinodes.add((x2 + n * dx, y2 + n * dy))\n",
    "        n -= 1"
   ]
  },
  {
   "cell_type": "code",
   "execution_count": 94,
   "metadata": {},
   "outputs": [
    {
     "data": {
      "text/plain": [
       "1308"
      ]
     },
     "execution_count": 94,
     "metadata": {},
     "output_type": "execute_result"
    }
   ],
   "source": [
    "len(antinodes)"
   ]
  }
 ],
 "metadata": {
  "kernelspec": {
   "display_name": "Python 3",
   "language": "python",
   "name": "python3"
  },
  "language_info": {
   "codemirror_mode": {
    "name": "ipython",
    "version": 3
   },
   "file_extension": ".py",
   "mimetype": "text/x-python",
   "name": "python",
   "nbconvert_exporter": "python",
   "pygments_lexer": "ipython3",
   "version": "3.12.7"
  }
 },
 "nbformat": 4,
 "nbformat_minor": 2
}
