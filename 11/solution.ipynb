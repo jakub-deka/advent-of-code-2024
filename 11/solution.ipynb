{
 "cells": [
  {
   "cell_type": "code",
   "execution_count": 1,
   "metadata": {},
   "outputs": [
    {
     "data": {
      "text/plain": [
       "[1, 24596, 0, 740994, 60, 803, 8918, 9405859]"
      ]
     },
     "execution_count": 1,
     "metadata": {},
     "output_type": "execute_result"
    }
   ],
   "source": [
    "def read_file(path):\n",
    "    r = open(path, \"r\").readline()\n",
    "    return list(map(int, r.split(\" \")))\n",
    "\n",
    "\n",
    "puzzle_input = read_file(\"input\")\n",
    "BLINKS = 25\n",
    "puzzle_input"
   ]
  },
  {
   "cell_type": "code",
   "execution_count": 2,
   "metadata": {},
   "outputs": [],
   "source": [
    "def action(val: int) -> list[int]:\n",
    "    if val == 0:\n",
    "        return [1]\n",
    "    elif len(str(val)) % 2 == 0:\n",
    "        val = str(val)\n",
    "        split = int(len(val) / 2)\n",
    "        return [int(val[:split]), int(val[split:])]\n",
    "    else:\n",
    "        return [val * 2024]\n",
    "\n",
    "\n",
    "def blink(input_list: list[int]) -> list[int]:\n",
    "    before = input_list[:]\n",
    "    after = []\n",
    "    for i, e in enumerate(before):\n",
    "        new_val = action(e)\n",
    "        after += new_val\n",
    "    return after"
   ]
  },
  {
   "cell_type": "code",
   "execution_count": 3,
   "metadata": {},
   "outputs": [
    {
     "name": "stdout",
     "output_type": "stream",
     "text": [
      "203457\n"
     ]
    }
   ],
   "source": [
    "test_input = puzzle_input[:]\n",
    "for i in range(BLINKS):\n",
    "    test_input = blink(test_input)\n",
    "    # print(f\"Step {i} : {test_input}\")\n",
    "    # print(len(test_input))\n",
    "print(len(test_input))"
   ]
  },
  {
   "cell_type": "code",
   "execution_count": 5,
   "metadata": {},
   "outputs": [
    {
     "name": "stdout",
     "output_type": "stream",
     "text": [
      "241394363462435\n"
     ]
    }
   ],
   "source": [
    "from functools import lru_cache\n",
    "\n",
    "\n",
    "@lru_cache(maxsize=None)\n",
    "def recursive_blink(val: str, to_go: int) -> int:\n",
    "    if to_go == 0:\n",
    "        return 1\n",
    "\n",
    "    if val == \"0\":\n",
    "        return recursive_blink(\"1\", to_go - 1)\n",
    "\n",
    "    if len(val) % 2 == 0:\n",
    "        n = len(val) // 2\n",
    "        left = val[:n]\n",
    "        right = val[n:]\n",
    "        while right[0] == \"0\" and len(right) > 1:\n",
    "            right = right[1:]\n",
    "        return recursive_blink(left, to_go - 1) + recursive_blink(right, to_go - 1)\n",
    "    else:\n",
    "        val = str(int(val) * 2024)\n",
    "        return recursive_blink(val, to_go - 1)\n",
    "\n",
    "\n",
    "result = 0\n",
    "test_input = [str(x) for x in puzzle_input]\n",
    "for e in test_input:\n",
    "    result += recursive_blink(e, 75)\n",
    "print(result)"
   ]
  }
 ],
 "metadata": {
  "kernelspec": {
   "display_name": "Python 3",
   "language": "python",
   "name": "python3"
  },
  "language_info": {
   "codemirror_mode": {
    "name": "ipython",
    "version": 3
   },
   "file_extension": ".py",
   "mimetype": "text/x-python",
   "name": "python",
   "nbconvert_exporter": "python",
   "pygments_lexer": "ipython3",
   "version": "3.12.7"
  }
 },
 "nbformat": 4,
 "nbformat_minor": 2
}
