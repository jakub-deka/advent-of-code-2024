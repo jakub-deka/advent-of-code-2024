{
 "cells": [
  {
   "cell_type": "code",
   "execution_count": null,
   "metadata": {},
   "outputs": [],
   "source": [
    "def read_file(path):\n",
    "    with open(path, \"r\") as f:\n",
    "        res = f.readlines()\n",
    "\n",
    "    rules = [list(map(int, x.strip().split(\"|\"))) for x in res if \"|\" in x]\n",
    "    print_order = [\n",
    "        list(map(int, x.strip().split(\",\")))\n",
    "        for x in res\n",
    "        if \"|\" not in x and x.strip() != \"\"\n",
    "    ]\n",
    "    return rules, print_order\n",
    "\n",
    "\n",
    "rules, print_orders = read_file(\"input.txt\")"
   ]
  },
  {
   "cell_type": "code",
   "execution_count": 18,
   "metadata": {},
   "outputs": [
    {
     "data": {
      "text/plain": [
       "[[47, 53],\n",
       " [97, 13],\n",
       " [97, 61],\n",
       " [97, 47],\n",
       " [75, 29],\n",
       " [61, 13],\n",
       " [75, 53],\n",
       " [29, 13],\n",
       " [97, 29],\n",
       " [53, 29],\n",
       " [61, 53],\n",
       " [97, 53],\n",
       " [61, 29],\n",
       " [47, 13],\n",
       " [75, 47],\n",
       " [97, 75],\n",
       " [47, 61],\n",
       " [75, 61],\n",
       " [47, 29],\n",
       " [75, 13],\n",
       " [53, 13]]"
      ]
     },
     "execution_count": 18,
     "metadata": {},
     "output_type": "execute_result"
    }
   ],
   "source": [
    "rules"
   ]
  },
  {
   "cell_type": "code",
   "execution_count": 28,
   "metadata": {},
   "outputs": [
    {
     "data": {
      "text/plain": [
       "[[75, 47, 61, 53, 29],\n",
       " [97, 61, 53, 29, 13],\n",
       " [75, 29, 13],\n",
       " [75, 97, 47, 61, 53],\n",
       " [61, 13, 29],\n",
       " [97, 13, 75, 29, 47]]"
      ]
     },
     "execution_count": 28,
     "metadata": {},
     "output_type": "execute_result"
    }
   ],
   "source": [
    "print_orders"
   ]
  },
  {
   "cell_type": "code",
   "execution_count": null,
   "metadata": {},
   "outputs": [
    {
     "data": {
      "text/plain": [
       "143"
      ]
     },
     "execution_count": 20,
     "metadata": {},
     "output_type": "execute_result"
    }
   ],
   "source": [
    "from math import floor\n",
    "\n",
    "\n",
    "def is_valid(print_order, rules):\n",
    "    print_order = print_order[:]\n",
    "    for r in rules:\n",
    "        if r[0] in print_order and r[1] in print_order:\n",
    "            if print_order.index(r[0]) > print_order.index(r[1]):\n",
    "                return 0\n",
    "\n",
    "    return print_order[floor(len(print_order) / 2)]\n",
    "\n",
    "\n",
    "sum([is_valid(x, rules) for x in print_orders])"
   ]
  },
  {
   "cell_type": "code",
   "execution_count": 32,
   "metadata": {},
   "outputs": [
    {
     "data": {
      "text/plain": [
       "123"
      ]
     },
     "execution_count": 32,
     "metadata": {},
     "output_type": "execute_result"
    }
   ],
   "source": [
    "def reorder_print_order(print_order, rules):\n",
    "    print_order = print_order[:]\n",
    "    if is_valid(print_order, rules):\n",
    "        return 0\n",
    "\n",
    "    while not is_valid(print_order, rules):\n",
    "        for r in rules:\n",
    "            if r[0] in print_order and r[1] in print_order:\n",
    "                if print_order.index(r[0]) > print_order.index(r[1]):\n",
    "                    before_index = print_order.index(r[0])\n",
    "                    after_index = print_order.index(r[1])\n",
    "                    print_order.insert(after_index, print_order.pop(before_index))\n",
    "\n",
    "    return print_order[floor(len(print_order) / 2)]\n",
    "\n",
    "\n",
    "sum([reorder_print_order(print_order, rules) for print_order in print_orders])"
   ]
  }
 ],
 "metadata": {
  "kernelspec": {
   "display_name": "Python 3",
   "language": "python",
   "name": "python3"
  },
  "language_info": {
   "codemirror_mode": {
    "name": "ipython",
    "version": 3
   },
   "file_extension": ".py",
   "mimetype": "text/x-python",
   "name": "python",
   "nbconvert_exporter": "python",
   "pygments_lexer": "ipython3",
   "version": "3.12.7"
  }
 },
 "nbformat": 4,
 "nbformat_minor": 2
}
