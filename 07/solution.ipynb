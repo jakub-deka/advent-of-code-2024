{
 "cells": [
  {
   "cell_type": "code",
   "execution_count": 1,
   "metadata": {},
   "outputs": [],
   "source": [
    "def read_file(path):\n",
    "    with open(path, \"r\") as f:\n",
    "        res = f.readlines()\n",
    "    res = [x.strip() for x in res]\n",
    "    res = [\n",
    "        {\n",
    "            \"test_value\": int(x.split(\":\")[0]),\n",
    "            \"numbers\": [int(y) for y in x.split(\":\")[1].strip().split(\" \")],\n",
    "        }\n",
    "        for x in res\n",
    "    ]\n",
    "    return res\n",
    "\n",
    "\n",
    "input = read_file(\"input\")"
   ]
  },
  {
   "cell_type": "code",
   "execution_count": 2,
   "metadata": {},
   "outputs": [
    {
     "data": {
      "text/plain": [
       "5540634308362"
      ]
     },
     "execution_count": 2,
     "metadata": {},
     "output_type": "execute_result"
    }
   ],
   "source": [
    "from operator import add, mul\n",
    "from itertools import product, repeat\n",
    "\n",
    "ops = [add, mul]\n",
    "\n",
    "\n",
    "def test_one(test: dict, ops: list):\n",
    "    ops_count = len(test[\"numbers\"])\n",
    "    cases = list(product(*list(repeat(ops, ops_count - 1))))\n",
    "    numbers = test[\"numbers\"]\n",
    "    expected_result = test[\"test_value\"]\n",
    "\n",
    "    valid = False\n",
    "    for case in cases:\n",
    "        case = list(case)\n",
    "        result = numbers[:]\n",
    "        while len(result) > 1:\n",
    "            a, b = result.pop(0), result.pop(0)\n",
    "            f = case.pop(0)\n",
    "            result = [f(a, b)] + result\n",
    "\n",
    "        if expected_result == result[0]:\n",
    "            valid = True\n",
    "            break\n",
    "    return expected_result if valid else 0\n",
    "\n",
    "\n",
    "sum([test_one(test, ops) for test in input])"
   ]
  },
  {
   "cell_type": "code",
   "execution_count": 3,
   "metadata": {},
   "outputs": [
    {
     "data": {
      "text/plain": [
       "472290821152397"
      ]
     },
     "execution_count": 3,
     "metadata": {},
     "output_type": "execute_result"
    }
   ],
   "source": [
    "from operator import add, mul\n",
    "from itertools import product, repeat\n",
    "\n",
    "\n",
    "def my_concat(a: int, b: int):\n",
    "    return int(str(a) + str(b))\n",
    "\n",
    "\n",
    "ops = [add, mul, my_concat]\n",
    "\n",
    "\n",
    "def test_one(test: dict, ops: list):\n",
    "    ops_count = len(test[\"numbers\"])\n",
    "    cases = list(product(*list(repeat(ops, ops_count - 1))))\n",
    "    numbers = test[\"numbers\"]\n",
    "    expected_result = test[\"test_value\"]\n",
    "\n",
    "    valid = False\n",
    "    for case in cases:\n",
    "        case = list(case)\n",
    "        result = numbers[:]\n",
    "        while len(result) > 1:\n",
    "            a, b = result.pop(0), result.pop(0)\n",
    "            f = case.pop(0)\n",
    "            result = [f(a, b)] + result\n",
    "\n",
    "        if expected_result == result[0]:\n",
    "            valid = True\n",
    "            break\n",
    "    return expected_result if valid else 0\n",
    "\n",
    "\n",
    "sum([test_one(test, ops) for test in input])"
   ]
  }
 ],
 "metadata": {
  "kernelspec": {
   "display_name": "Python 3",
   "language": "python",
   "name": "python3"
  },
  "language_info": {
   "codemirror_mode": {
    "name": "ipython",
    "version": 3
   },
   "file_extension": ".py",
   "mimetype": "text/x-python",
   "name": "python",
   "nbconvert_exporter": "python",
   "pygments_lexer": "ipython3",
   "version": "3.12.7"
  }
 },
 "nbformat": 4,
 "nbformat_minor": 2
}
