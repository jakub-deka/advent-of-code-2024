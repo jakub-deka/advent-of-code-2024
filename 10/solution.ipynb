{
 "cells": [
  {
   "cell_type": "code",
   "execution_count": 1,
   "metadata": {},
   "outputs": [],
   "source": [
    "def read_file(path):\n",
    "    res = open(path, \"r\").readlines()\n",
    "    res = [[int(x) if x != \".\" else 3 for x in list(x.strip())] for x in res]\n",
    "    return res"
   ]
  },
  {
   "cell_type": "code",
   "execution_count": 7,
   "metadata": {},
   "outputs": [],
   "source": [
    "input = read_file(\"input\")\n",
    "# input"
   ]
  },
  {
   "cell_type": "code",
   "execution_count": 8,
   "metadata": {},
   "outputs": [
    {
     "name": "stdout",
     "output_type": "stream",
     "text": [
      "The score is 796\n"
     ]
    }
   ],
   "source": [
    "directions = [(-1, 0), (0, 1), (1, 0), (0, -1)]\n",
    "trailheads = []\n",
    "for x, l in enumerate(input):\n",
    "    for y, e in enumerate(l):\n",
    "        if e == 0:\n",
    "            trailheads.append((x, y))\n",
    "\n",
    "score = 0\n",
    "for head in trailheads:\n",
    "    queue = [head]\n",
    "    visited = set()\n",
    "\n",
    "    while queue:\n",
    "        current_x, current_y = queue.pop()\n",
    "\n",
    "        if (current_x, current_y) in visited:\n",
    "            continue\n",
    "\n",
    "        visited.add((current_x, current_y))\n",
    "\n",
    "        if input[current_x][current_y] == 9:\n",
    "            score += 1\n",
    "            continue\n",
    "\n",
    "        for dx, dy in directions:\n",
    "            new_x, new_y = current_x + dx, current_y + dy\n",
    "            if 0 <= new_x < len(input) and 0 <= new_y < len(input[0]):\n",
    "                if input[current_x][current_y] + 1 == input[new_x][new_y]:\n",
    "                    queue.append((new_x, new_y))\n",
    "\n",
    "    # print(f\"Head {head} has a score of {score}\")\n",
    "\n",
    "print(f\"The score is {score}\")"
   ]
  },
  {
   "cell_type": "code",
   "execution_count": 9,
   "metadata": {},
   "outputs": [
    {
     "name": "stdout",
     "output_type": "stream",
     "text": [
      "The score is 1942\n"
     ]
    }
   ],
   "source": [
    "directions = [(-1, 0), (0, 1), (1, 0), (0, -1)]\n",
    "trailheads = []\n",
    "for x, l in enumerate(input):\n",
    "    for y, e in enumerate(l):\n",
    "        if e == 0:\n",
    "            trailheads.append((x, y))\n",
    "\n",
    "score = 0\n",
    "for head in trailheads:\n",
    "    queue = [head]\n",
    "    visited = set()\n",
    "\n",
    "    while queue:\n",
    "        current_x, current_y = queue.pop()\n",
    "\n",
    "        if (current_x, current_y) in visited:\n",
    "            continue\n",
    "\n",
    "        # visited.add((current_x, current_y))\n",
    "\n",
    "        if input[current_x][current_y] == 9:\n",
    "            score += 1\n",
    "            continue\n",
    "\n",
    "        for dx, dy in directions:\n",
    "            new_x, new_y = current_x + dx, current_y + dy\n",
    "            if 0 <= new_x < len(input) and 0 <= new_y < len(input[0]):\n",
    "                if input[current_x][current_y] + 1 == input[new_x][new_y]:\n",
    "                    queue.append((new_x, new_y))\n",
    "\n",
    "    # print(f\"Head {head} has a score of {score}\")\n",
    "\n",
    "print(f\"The score is {score}\")"
   ]
  }
 ],
 "metadata": {
  "kernelspec": {
   "display_name": "Python 3",
   "language": "python",
   "name": "python3"
  },
  "language_info": {
   "codemirror_mode": {
    "name": "ipython",
    "version": 3
   },
   "file_extension": ".py",
   "mimetype": "text/x-python",
   "name": "python",
   "nbconvert_exporter": "python",
   "pygments_lexer": "ipython3",
   "version": "3.12.7"
  }
 },
 "nbformat": 4,
 "nbformat_minor": 2
}
