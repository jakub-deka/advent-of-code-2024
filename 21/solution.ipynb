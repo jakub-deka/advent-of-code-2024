{
 "cells": [
  {
   "cell_type": "code",
   "execution_count": 4,
   "metadata": {},
   "outputs": [],
   "source": [
    "def read_input(path):\n",
    "    res = open(path, \"r\").readlines()\n",
    "    return [x.strip() for x in res]\n",
    "\n",
    "\n",
    "def replace_in_grid(grid, value, replacement):\n",
    "    for x, l in enumerate(grid):\n",
    "        for y, c in enumerate(l):\n",
    "            if c == value:\n",
    "                grid[x][y] = replacement\n",
    "\n",
    "    return grid"
   ]
  },
  {
   "cell_type": "code",
   "execution_count": 94,
   "metadata": {},
   "outputs": [
    {
     "data": {
      "text/plain": [
       "224326"
      ]
     },
     "execution_count": 94,
     "metadata": {},
     "output_type": "execute_result"
    }
   ],
   "source": [
    "DIRECTIONS = {\"<\": (0, -1), \"^\": (-1, 0), \"v\": (1, 0), \">\": (0, 1)}\n",
    "\n",
    "NUMERIC = [list(x) for x in [\"789\", \"456\", \"123\", \"#0A\"]]\n",
    "\n",
    "DIRECTIONAL = [[\"#\", \"^\", \"A\"], [\"<\", \"v\", \">\"]]\n",
    "\n",
    "\n",
    "def find_char(grid, char):\n",
    "    for x, l in enumerate(grid):\n",
    "        for y, c in enumerate(l):\n",
    "            if c == char:\n",
    "                return x, y\n",
    "\n",
    "\n",
    "def shortest_path(grid, current_char, target_char):\n",
    "    x, y = find_char(grid, current_char)\n",
    "    i, j = find_char(grid, target_char)\n",
    "    gap = find_char(grid, \"#\")\n",
    "\n",
    "    if i > x:\n",
    "        ud = \"v\" * (i - x)\n",
    "    else:\n",
    "        ud = \"^\" * (x - i)\n",
    "\n",
    "    if j > y:\n",
    "        lr = \">\" * (j - y)\n",
    "    else:\n",
    "        lr = \"<\" * (y - j)\n",
    "\n",
    "    if j > y and grid[i][y] != \"#\":\n",
    "        return f\"{ud}{lr}A\"\n",
    "    elif grid[x][j] != \"#\":\n",
    "        return f\"{lr}{ud}A\"\n",
    "\n",
    "    return f\"{ud}{lr}A\"\n",
    "\n",
    "\n",
    "def input_code(code, grid):\n",
    "    current_char = \"A\"\n",
    "    res = \"\"\n",
    "    for c in code:\n",
    "        res += shortest_path(grid, current_char, c)\n",
    "        current_char = c\n",
    "    return res\n",
    "\n",
    "\n",
    "def input_nested_code(code, nest_count=2):\n",
    "    seq = input_code(code, NUMERIC)\n",
    "    for _ in range(nest_count):\n",
    "        seq = input_code(seq, DIRECTIONAL)\n",
    "    return seq\n",
    "\n",
    "\n",
    "def part1(code):\n",
    "    num = int(\"\".join([x for x in code if x.isdigit()]))\n",
    "    ans = len(input_nested_code(code))\n",
    "    return num * ans\n",
    "\n",
    "\n",
    "sum([part1(x) for x in read_input(\"input\")])\n",
    "\n",
    "# shortest_path(NUMERIC, \"1\", \"A\")\n",
    "# shortest_path(DIRECTIONAL, \"<\", \"A\")\n",
    "# input_code(\"123A\", NUMERIC)\n",
    "# input_nested_code(\"029A\")"
   ]
  },
  {
   "cell_type": "code",
   "execution_count": 173,
   "metadata": {},
   "outputs": [],
   "source": [
    "from functools import cache\n",
    "\n",
    "numpad_graph = {}\n",
    "for n1 in [item for row in NUMERIC for item in row]:\n",
    "    for n2 in [item for row in NUMERIC for item in row]:\n",
    "        numpad_graph[(n1, n2)] = shortest_path(NUMERIC, n1, n2)\n",
    "\n",
    "\n",
    "dirpad_graph = {}\n",
    "for n1 in [item for row in DIRECTIONAL for item in row]:\n",
    "    for n2 in [item for row in DIRECTIONAL for item in row]:\n",
    "        dirpad_graph[(n1, n2)] = shortest_path(DIRECTIONAL, n1, n2)\n",
    "\n",
    "\n",
    "@cache\n",
    "def get_length(sequence, iterations, first_iter=False):\n",
    "    if iterations == 0:\n",
    "        return len(sequence)\n",
    "\n",
    "    prev = \"A\"\n",
    "    total_length = 0\n",
    "    graph = numpad_graph if first_iter else dirpad_graph\n",
    "    for char in sequence:\n",
    "        total_length += get_length(graph[(prev, char)], iterations - 1)\n",
    "        prev = char\n",
    "    return total_length\n",
    "\n",
    "\n",
    "def part2(code):\n",
    "    num = int(\"\".join([x for x in code if x.isdigit()]))\n",
    "    ans = get_length(code, 26, True)\n",
    "    return num * ans"
   ]
  },
  {
   "cell_type": "code",
   "execution_count": 175,
   "metadata": {},
   "outputs": [
    {
     "data": {
      "text/plain": [
       "279638326609472"
      ]
     },
     "execution_count": 175,
     "metadata": {},
     "output_type": "execute_result"
    }
   ],
   "source": [
    "sum([part2(x) for x in read_input(\"input\")])"
   ]
  },
  {
   "cell_type": "code",
   "execution_count": 158,
   "metadata": {},
   "outputs": [
    {
     "data": {
      "text/plain": [
       "364000"
      ]
     },
     "execution_count": 158,
     "metadata": {},
     "output_type": "execute_result"
    }
   ],
   "source": [
    "def increment_transitions(code, nest_count=2):\n",
    "    directional_transitions = {}\n",
    "    dirs = [item for row in DIRECTIONAL for item in row]\n",
    "    for d1 in dirs:\n",
    "        for d2 in dirs:\n",
    "            directional_transitions[f\"{d1}{d2}\"] = (\n",
    "                shortest_path(DIRECTIONAL, d1, d2),\n",
    "                0,\n",
    "            )\n",
    "\n",
    "    first_directional_seq = input_code(input_code(code, NUMERIC), DIRECTIONAL)\n",
    "\n",
    "    for i, c in enumerate(first_directional_seq):\n",
    "        if i == 0:\n",
    "            prev_c = \"A\"\n",
    "        else:\n",
    "            prev_c = first_directional_seq[i - 1]\n",
    "\n",
    "        current_seq = f\"{prev_c}{c}\"\n",
    "        x = directional_transitions[current_seq]\n",
    "        directional_transitions[current_seq] = (x[0], x[1] + 1)\n",
    "\n",
    "    ans = sum(\n",
    "        [\n",
    "            len(v[0]) * v[1] * (nest_count - 1)\n",
    "            for _, v in directional_transitions.items()\n",
    "        ]\n",
    "    )\n",
    "    num = int(\"\".join([x for x in code if x.isdigit()]))\n",
    "\n",
    "    return ans * num\n",
    "\n",
    "\n",
    "increment_transitions(\"208A\", 26)\n",
    "# 17986962866080"
   ]
  }
 ],
 "metadata": {
  "kernelspec": {
   "display_name": "Python 3",
   "language": "python",
   "name": "python3"
  },
  "language_info": {
   "codemirror_mode": {
    "name": "ipython",
    "version": 3
   },
   "file_extension": ".py",
   "mimetype": "text/x-python",
   "name": "python",
   "nbconvert_exporter": "python",
   "pygments_lexer": "ipython3",
   "version": "3.12.7"
  }
 },
 "nbformat": 4,
 "nbformat_minor": 2
}
