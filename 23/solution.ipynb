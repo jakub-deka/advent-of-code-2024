{
 "cells": [
  {
   "cell_type": "code",
   "execution_count": 1,
   "metadata": {},
   "outputs": [],
   "source": [
    "def read_file(path):\n",
    "    res = open(path, \"r\").readlines()\n",
    "    res = [tuple(x.strip().split(\"-\")) for x in res]\n",
    "    return res\n",
    "\n",
    "\n",
    "# [item for row in read_file(\"example\") for item in row]\n",
    "# read_file(\"example\")"
   ]
  },
  {
   "cell_type": "code",
   "execution_count": 2,
   "metadata": {},
   "outputs": [
    {
     "data": {
      "text/plain": [
       "998"
      ]
     },
     "execution_count": 2,
     "metadata": {},
     "output_type": "execute_result"
    }
   ],
   "source": [
    "from collections import defaultdict, deque\n",
    "from itertools import combinations\n",
    "\n",
    "\n",
    "def find_n_computer_groups(network_map, group_size: int):\n",
    "    network = defaultdict(set)\n",
    "    for a, b in network_map:\n",
    "        network[a].add(b)\n",
    "        network[b].add(a)\n",
    "\n",
    "    res = set()\n",
    "    to_explore = deque([(x,) for x in network if x.startswith(\"t\")])\n",
    "\n",
    "    while to_explore:\n",
    "        group = to_explore.popleft()\n",
    "        if len(group) == group_size:\n",
    "            if all(\n",
    "                group[j] in network[group[i]]\n",
    "                for i in range(len(group))\n",
    "                for j in range(i + 1, len(group))\n",
    "            ):\n",
    "                res.add(tuple(sorted(group)))\n",
    "            continue\n",
    "\n",
    "        for n in network[group[-1]]:\n",
    "            if n not in group:\n",
    "                to_explore.append(group + (n,))\n",
    "\n",
    "    return res\n",
    "\n",
    "\n",
    "# find_n_computer_groups([(\"aq\", \"cg\"), (\"cg\", \"bd\")])\n",
    "len(find_n_computer_groups(read_file(\"input\"), 3))"
   ]
  },
  {
   "cell_type": "code",
   "execution_count": 3,
   "metadata": {},
   "outputs": [
    {
     "data": {
      "text/plain": [
       "set()"
      ]
     },
     "execution_count": 3,
     "metadata": {},
     "output_type": "execute_result"
    }
   ],
   "source": [
    "find_n_computer_groups(read_file(\"example\"), 5)"
   ]
  },
  {
   "cell_type": "code",
   "execution_count": 7,
   "metadata": {},
   "outputs": [
    {
     "data": {
      "text/plain": [
       "'cc,ff,fh,fr,ny,oa,pl,rg,uj,wd,xn,xs,zw'"
      ]
     },
     "execution_count": 7,
     "metadata": {},
     "output_type": "execute_result"
    }
   ],
   "source": [
    "from collections import defaultdict, deque\n",
    "\n",
    "\n",
    "def find_largest_group(network_map):\n",
    "    \"\"\"Finds the largest interconnected group(s) in the network.\"\"\"\n",
    "    # Build adjacency list\n",
    "    network = defaultdict(set)\n",
    "    for a, b in network_map:\n",
    "        network[a].add(b)\n",
    "        network[b].add(a)\n",
    "\n",
    "    largest_size = 0\n",
    "    res = set()\n",
    "    to_explore = deque([(x,) for x in network])\n",
    "    visited = set()  # Track visited groups\n",
    "\n",
    "    while to_explore:\n",
    "        group = to_explore.popleft()\n",
    "\n",
    "        # Skip if already visited\n",
    "        sorted_group = tuple(sorted(group))\n",
    "        if sorted_group in visited:\n",
    "            continue\n",
    "        visited.add(sorted_group)\n",
    "\n",
    "        # Check if the group is fully connected\n",
    "        if all(\n",
    "            group[j] in network[group[i]]\n",
    "            for i in range(len(group))\n",
    "            for j in range(i + 1, len(group))\n",
    "        ):\n",
    "            # Update the largest group size and result set\n",
    "            if len(group) > largest_size:\n",
    "                largest_size = len(group)\n",
    "                res = {sorted_group}\n",
    "            elif len(group) == largest_size:\n",
    "                res.add(sorted_group)\n",
    "\n",
    "            # Expand the group\n",
    "            for n in network[group[-1]]:\n",
    "                if n not in group:\n",
    "                    to_explore.append(group + (n,))\n",
    "\n",
    "    return res\n",
    "\n",
    "\n",
    "\",\".join(list(find_largest_group(read_file(\"input\")))[0])"
   ]
  }
 ],
 "metadata": {
  "kernelspec": {
   "display_name": "Python 3",
   "language": "python",
   "name": "python3"
  },
  "language_info": {
   "codemirror_mode": {
    "name": "ipython",
    "version": 3
   },
   "file_extension": ".py",
   "mimetype": "text/x-python",
   "name": "python",
   "nbconvert_exporter": "python",
   "pygments_lexer": "ipython3",
   "version": "3.12.7"
  }
 },
 "nbformat": 4,
 "nbformat_minor": 2
}
