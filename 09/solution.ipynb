{
 "cells": [
  {
   "cell_type": "code",
   "execution_count": 71,
   "metadata": {},
   "outputs": [],
   "source": [
    "def read_file(path):\n",
    "    res = open(path, \"r\").read()\n",
    "    return res.strip()\n",
    "\n",
    "\n",
    "input = read_file(\"input\")"
   ]
  },
  {
   "cell_type": "code",
   "execution_count": 72,
   "metadata": {},
   "outputs": [],
   "source": [
    "# input"
   ]
  },
  {
   "cell_type": "code",
   "execution_count": 73,
   "metadata": {},
   "outputs": [],
   "source": [
    "from math import floor\n",
    "\n",
    "\n",
    "def expand(disk_map):\n",
    "    res = \"\"\n",
    "    for i, c in enumerate(disk_map):\n",
    "        if i % 2 != 0:\n",
    "            res += \".\" * int(c)\n",
    "        else:\n",
    "            file = floor(i / 2)\n",
    "            res += str(file) * int(c)\n",
    "    return res\n",
    "\n",
    "\n",
    "def expand2(disk_map):\n",
    "    res = []\n",
    "    for i, c in enumerate(disk_map):\n",
    "        if i % 2 != 0 and int(c) > 0:\n",
    "            res.append((-1, int(c)))\n",
    "        elif int(c) > 0:\n",
    "            file = floor(i / 2)\n",
    "            res.append((file, int(c)))\n",
    "\n",
    "    return res\n",
    "\n",
    "\n",
    "def disk_map_to_str(disk_map):\n",
    "    res = \"\"\n",
    "    for e in disk_map:\n",
    "        if e[0] == -1:\n",
    "            res += \".\" * e[1]\n",
    "        else:\n",
    "            res += str(e[0]) * e[1]\n",
    "    return res\n",
    "\n",
    "\n",
    "def is_fragmented(disk_map):\n",
    "    pairwise = zip(disk_map, disk_map[1:])\n",
    "    for e in pairwise:\n",
    "        if e[0][0] == -1 and e[1][0] != -1:\n",
    "            return True\n",
    "    return False\n",
    "\n",
    "\n",
    "def get_first_gap(disk_map):\n",
    "    for i, c in enumerate(disk_map):\n",
    "        if c[0] == -1:\n",
    "            return i\n",
    "\n",
    "\n",
    "def calc_checksum(disk_map):\n",
    "    # This needs to calculate the value of each tuple...\n",
    "    start = 0\n",
    "    res = 0\n",
    "    for e in disk_map:\n",
    "        file_ids = [e[0]] * e[1]\n",
    "        positions = range(len(file_ids))\n",
    "        increment = sum(\n",
    "            [max(0, id) * (pos + start) for id, pos in zip(file_ids, positions)]\n",
    "        )\n",
    "        res += increment\n",
    "        start += len(file_ids)\n",
    "\n",
    "    return res"
   ]
  },
  {
   "cell_type": "code",
   "execution_count": 74,
   "metadata": {},
   "outputs": [],
   "source": [
    "disk_map = expand2(input)\n",
    "while is_fragmented(disk_map):\n",
    "    tail = disk_map.pop()\n",
    "    gap_index = get_first_gap(disk_map)\n",
    "    gap = disk_map[gap_index]\n",
    "    if gap[1] == tail[1]:\n",
    "        disk_map[gap_index] = tail\n",
    "    elif gap[1] > tail[1]:\n",
    "        reminder = (-1, gap[1] - tail[1])\n",
    "        disk_map = (\n",
    "            disk_map[:gap_index] + [tail] + [reminder] + disk_map[gap_index + 1 :]\n",
    "        )\n",
    "    else:\n",
    "        insert = (tail[0], gap[1])\n",
    "        reminder = (tail[0], tail[1] - gap[1])\n",
    "        disk_map = (\n",
    "            disk_map[:gap_index] + [insert] + disk_map[gap_index + 1 :] + [reminder]\n",
    "        )\n",
    "\n",
    "    # print(disk_map_to_str(disk_map))\n",
    "\n",
    "# is_fragmented(expand2(input))"
   ]
  },
  {
   "cell_type": "code",
   "execution_count": 75,
   "metadata": {},
   "outputs": [
    {
     "data": {
      "text/plain": [
       "6200294120911"
      ]
     },
     "execution_count": 75,
     "metadata": {},
     "output_type": "execute_result"
    }
   ],
   "source": [
    "calc_checksum(disk_map)"
   ]
  },
  {
   "cell_type": "code",
   "execution_count": 76,
   "metadata": {},
   "outputs": [],
   "source": [
    "def get_last_file_id(disk_map):\n",
    "    return max(disk_map[-1][0], disk_map[-2][0])\n",
    "\n",
    "\n",
    "def get_file_by_id(disk_map, id):\n",
    "    for i, e in reversed(list(enumerate(disk_map))):\n",
    "        if e[0] == id:\n",
    "            return i\n",
    "\n",
    "\n",
    "def has_adjecent_free_space(disk_map):\n",
    "    for t, n in zip(disk_map, disk_map[1:]):\n",
    "        if t[0] == -1 and n[0] == -1:\n",
    "            return True\n",
    "\n",
    "\n",
    "def combine_free_space(disk_map):\n",
    "    while has_adjecent_free_space(disk_map):\n",
    "        for i, e in enumerate(disk_map):\n",
    "            if e[0] == -1 and disk_map[i + 1][0] == -1:\n",
    "                disk_map[i] = (-1, e[1] + disk_map[i + 1][1])\n",
    "                disk_map.pop(i + 1)\n",
    "                break\n",
    "    return disk_map\n",
    "\n",
    "\n",
    "disk_map = expand2(input)\n",
    "\n",
    "max_file_id = get_last_file_id(disk_map)\n",
    "\n",
    "while max_file_id > 0:\n",
    "    file_index = get_file_by_id(disk_map, max_file_id)\n",
    "    file = disk_map[file_index]\n",
    "    for i, e in enumerate(disk_map):\n",
    "        if e[0] == -1 and e[1] >= file[1]:\n",
    "            reminder = (-1, disk_map[i][1] - file[1])\n",
    "            to_insert = [file]\n",
    "            if reminder[1] > 0:\n",
    "                to_insert.append(reminder)\n",
    "            disk_map = disk_map[:i] + to_insert + disk_map[i + 1 :]\n",
    "            file_index = get_file_by_id(disk_map, max_file_id)\n",
    "            disk_map[file_index] = (-1, file[1])\n",
    "            disk_map = combine_free_space(disk_map)\n",
    "            break\n",
    "    max_file_id -= 1"
   ]
  },
  {
   "cell_type": "code",
   "execution_count": 77,
   "metadata": {},
   "outputs": [
    {
     "data": {
      "text/plain": [
       "6227018762750"
      ]
     },
     "execution_count": 77,
     "metadata": {},
     "output_type": "execute_result"
    }
   ],
   "source": [
    "calc_checksum(disk_map)"
   ]
  }
 ],
 "metadata": {
  "kernelspec": {
   "display_name": "Python 3",
   "language": "python",
   "name": "python3"
  },
  "language_info": {
   "codemirror_mode": {
    "name": "ipython",
    "version": 3
   },
   "file_extension": ".py",
   "mimetype": "text/x-python",
   "name": "python",
   "nbconvert_exporter": "python",
   "pygments_lexer": "ipython3",
   "version": "3.12.7"
  }
 },
 "nbformat": 4,
 "nbformat_minor": 2
}
