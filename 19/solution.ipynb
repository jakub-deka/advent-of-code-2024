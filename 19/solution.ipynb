{
 "cells": [
  {
   "cell_type": "code",
   "execution_count": 55,
   "metadata": {},
   "outputs": [],
   "source": [
    "def read_file(path):\n",
    "    res = open(path, \"r\").readlines()\n",
    "    res = [x.strip() for x in res]\n",
    "\n",
    "    res_dict = {}\n",
    "    res_dict[\"towels\"] = tuple([x.strip() for x in res[0].split(\",\")])\n",
    "    res_dict[\"designs\"] = res[2:]\n",
    "    return res_dict\n",
    "\n",
    "\n",
    "input = read_file(\"input\")"
   ]
  },
  {
   "cell_type": "code",
   "execution_count": 56,
   "metadata": {},
   "outputs": [],
   "source": [
    "from functools import lru_cache\n",
    "\n",
    "\n",
    "@lru_cache(maxsize=None)\n",
    "def is_possible(design: str, towels: tuple[str]):\n",
    "    if design == \"\":\n",
    "        return True\n",
    "    solutions = []\n",
    "    for t in towels:\n",
    "        if design.startswith(t):\n",
    "            new_design = design.replace(t, \"\", 1)\n",
    "            solutions.append(is_possible(new_design, towels))\n",
    "\n",
    "    return any(solutions)"
   ]
  },
  {
   "cell_type": "code",
   "execution_count": 57,
   "metadata": {},
   "outputs": [
    {
     "data": {
      "text/plain": [
       "296"
      ]
     },
     "execution_count": 57,
     "metadata": {},
     "output_type": "execute_result"
    }
   ],
   "source": [
    "# is_possible(input[\"designs\"][1], input[\"towels\"])\n",
    "\n",
    "sum([is_possible(x, input[\"towels\"]) for x in input[\"designs\"]])"
   ]
  },
  {
   "cell_type": "code",
   "execution_count": 58,
   "metadata": {},
   "outputs": [],
   "source": [
    "from functools import lru_cache\n",
    "\n",
    "\n",
    "@lru_cache(maxsize=None)\n",
    "def is_possible(design: str, towels: tuple[str]):\n",
    "    if design == \"\":\n",
    "        return True\n",
    "    solutions = []\n",
    "    for t in towels:\n",
    "        if design.startswith(t):\n",
    "            new_design = design.replace(t, \"\", 1)\n",
    "            solutions.append(is_possible(new_design, towels))\n",
    "\n",
    "    return sum(solutions)"
   ]
  },
  {
   "cell_type": "code",
   "execution_count": 59,
   "metadata": {},
   "outputs": [
    {
     "data": {
      "text/plain": [
       "619970556776002"
      ]
     },
     "execution_count": 59,
     "metadata": {},
     "output_type": "execute_result"
    }
   ],
   "source": [
    "sum([is_possible(x, input[\"towels\"]) for x in input[\"designs\"]])"
   ]
  }
 ],
 "metadata": {
  "kernelspec": {
   "display_name": "Python 3",
   "language": "python",
   "name": "python3"
  },
  "language_info": {
   "codemirror_mode": {
    "name": "ipython",
    "version": 3
   },
   "file_extension": ".py",
   "mimetype": "text/x-python",
   "name": "python",
   "nbconvert_exporter": "python",
   "pygments_lexer": "ipython3",
   "version": "3.12.7"
  }
 },
 "nbformat": 4,
 "nbformat_minor": 2
}
