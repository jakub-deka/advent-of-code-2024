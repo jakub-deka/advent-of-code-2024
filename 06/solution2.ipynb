{
 "cells": [
  {
   "cell_type": "code",
   "execution_count": 1,
   "metadata": {},
   "outputs": [],
   "source": [
    "def read_file(path):\n",
    "    with open(path, \"r\") as f:\n",
    "        res = f.readlines()\n",
    "\n",
    "    res = [list(x.strip()) for x in res]\n",
    "    return res\n",
    "\n",
    "\n",
    "input = read_file(\"input\")"
   ]
  },
  {
   "cell_type": "markdown",
   "metadata": {},
   "source": [
    "# Part 1"
   ]
  },
  {
   "cell_type": "code",
   "execution_count": 2,
   "metadata": {},
   "outputs": [],
   "source": [
    "# up, right, down, left\n",
    "steps = [(-1, 0), (0, 1), (1, 0), (0, -1)]\n",
    "visited = set()  # (x, y, direction xy)\n",
    "locations = set()  # (x, y)\n",
    "\n",
    "for i, l in enumerate(input):\n",
    "    for j, c in enumerate(l):\n",
    "        if c == \"^\":\n",
    "            x, y, direction = i, j, 0\n",
    "            break\n",
    "\n",
    "\n",
    "while True:\n",
    "    visited.add((x, y, direction))\n",
    "    locations.add((x, y))\n",
    "    x_new, y_new = x + steps[direction][0], y + steps[direction][1]\n",
    "    if not (0 <= x_new < len(input) and 0 <= y_new < len(input[0])):  # out of bounds\n",
    "        break\n",
    "    if input[x_new][y_new] == \"#\":  # turn\n",
    "        direction = (direction + 1) % 4\n",
    "    else:\n",
    "        x, y = x_new, y_new"
   ]
  },
  {
   "cell_type": "code",
   "execution_count": 3,
   "metadata": {},
   "outputs": [
    {
     "data": {
      "text/plain": [
       "4903"
      ]
     },
     "execution_count": 3,
     "metadata": {},
     "output_type": "execute_result"
    }
   ],
   "source": [
    "len(locations)"
   ]
  },
  {
   "cell_type": "markdown",
   "metadata": {},
   "source": [
    "# Part 2"
   ]
  },
  {
   "cell_type": "code",
   "execution_count": 4,
   "metadata": {},
   "outputs": [],
   "source": [
    "for i, l in enumerate(input):\n",
    "    for j, c in enumerate(l):\n",
    "        if c == \"^\":\n",
    "            x_start, y_start, direction = i, j, 0\n",
    "            break\n",
    "\n",
    "loop_total = 0\n",
    "\n",
    "for location in locations:\n",
    "    x, y, direction, visited = x_start, y_start, 0, set()\n",
    "    while True:\n",
    "        if (x, y, direction) in visited:\n",
    "            loop_total += 1\n",
    "            break\n",
    "        visited.add((x, y, direction))\n",
    "        x_new, y_new = x + steps[direction][0], y + steps[direction][1]\n",
    "        if not (\n",
    "            0 <= x_new < len(input) and 0 <= y_new < len(input[0])\n",
    "        ):  # out of bounds\n",
    "            break\n",
    "        if input[x_new][y_new] == \"#\" or (x_new, y_new) == location:  # turn\n",
    "            direction = (direction + 1) % 4\n",
    "        else:\n",
    "            x, y = x_new, y_new"
   ]
  },
  {
   "cell_type": "code",
   "execution_count": 5,
   "metadata": {},
   "outputs": [
    {
     "data": {
      "text/plain": [
       "1911"
      ]
     },
     "execution_count": 5,
     "metadata": {},
     "output_type": "execute_result"
    }
   ],
   "source": [
    "loop_total"
   ]
  }
 ],
 "metadata": {
  "kernelspec": {
   "display_name": "Python 3",
   "language": "python",
   "name": "python3"
  },
  "language_info": {
   "codemirror_mode": {
    "name": "ipython",
    "version": 3
   },
   "file_extension": ".py",
   "mimetype": "text/x-python",
   "name": "python",
   "nbconvert_exporter": "python",
   "pygments_lexer": "ipython3",
   "version": "3.12.7"
  }
 },
 "nbformat": 4,
 "nbformat_minor": 2
}
