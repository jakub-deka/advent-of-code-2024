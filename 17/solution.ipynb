{
 "cells": [
  {
   "cell_type": "code",
   "execution_count": 21,
   "metadata": {},
   "outputs": [],
   "source": [
    "import re\n",
    "from dataclasses import dataclass, field\n",
    "\n",
    "\n",
    "@dataclass\n",
    "class CompState:\n",
    "    A: int\n",
    "    B: int\n",
    "    C: int\n",
    "    program: list[str | int]\n",
    "    instruction_pointer: int = 0\n",
    "    output: list[int] = field(default_factory=list)\n",
    "\n",
    "    def combo(self, operand: int):\n",
    "        if operand <= 3:\n",
    "            return operand\n",
    "        elif operand == 4:\n",
    "            return self.A\n",
    "        elif operand == 5:\n",
    "            return self.B\n",
    "        elif operand == 6:\n",
    "            return self.C\n",
    "\n",
    "    def replace_opcodes(self):\n",
    "        res = []\n",
    "        OPCODES = [\"adv\", \"bxl\", \"bst\", \"jnz\", \"bxc\", \"out\", \"bdv\", \"cdv\"]\n",
    "        for i, ins in enumerate(self.program):\n",
    "            if i % 2 == 0:\n",
    "                res.append(OPCODES[int(ins)])\n",
    "            else:\n",
    "                res.append(int(ins))\n",
    "\n",
    "        self.program = res\n",
    "\n",
    "    def adv(self, b):\n",
    "        self.A = int(self.A / pow(2, self.combo(b)))\n",
    "\n",
    "    def bdv(self, b):\n",
    "        self.B = int(self.A / pow(2, self.combo(b)))\n",
    "\n",
    "    def cdv(self, b):\n",
    "        self.C = int(self.A / pow(2, self.combo(b)))\n",
    "\n",
    "    def bxl(self, b):\n",
    "        self.B = self.B ^ b\n",
    "\n",
    "    def bst(self, b):\n",
    "        self.B = self.combo(b) % 8\n",
    "\n",
    "    def bxc(self, b):\n",
    "        self.B = self.B ^ self.C\n",
    "\n",
    "    def out(self, b):\n",
    "        self.output.append(self.combo(b) % 8)\n",
    "\n",
    "    def jnz(self, b):\n",
    "        if self.A == 0:\n",
    "            pass\n",
    "        else:\n",
    "            self.instruction_pointer = b\n",
    "\n",
    "    def execute_current_command(self):\n",
    "        opcode, operand = (\n",
    "            self.program[self.instruction_pointer],\n",
    "            self.program[self.instruction_pointer + 1],\n",
    "        )\n",
    "\n",
    "        if opcode == \"jnz\" and self.A != 0:\n",
    "            pass\n",
    "        else:\n",
    "            self.instruction_pointer += 2\n",
    "\n",
    "        getattr(self, opcode)(operand)\n",
    "\n",
    "    def execute_program(self, debug=False):\n",
    "        while self.instruction_pointer < len(self.program):\n",
    "            self.execute_current_command()\n",
    "            if debug:\n",
    "                print(self)\n",
    "        return \",\".join([str(x) for x in self.output])\n",
    "\n",
    "\n",
    "def read_file(path):\n",
    "    res = open(path, \"r\").readlines()\n",
    "    res = [x.strip() for x in res]\n",
    "    for i, l in enumerate(res):\n",
    "        if l.startswith(\"Register\"):\n",
    "            res[i] = re.sub(\"Register .*: \", \"\", l)\n",
    "        elif l.startswith(\"Program\"):\n",
    "            res[i] = re.sub(\"Program: \", \"\", l)\n",
    "    res = CompState(int(res[0]), int(res[1]), int(res[2]), res[4].split(\",\"))\n",
    "    res.replace_opcodes()\n",
    "    return res"
   ]
  },
  {
   "cell_type": "code",
   "execution_count": 15,
   "metadata": {},
   "outputs": [
    {
     "data": {
      "text/plain": [
       "'7,3,5,7,5,7,4,3,0'"
      ]
     },
     "execution_count": 15,
     "metadata": {},
     "output_type": "execute_result"
    }
   ],
   "source": [
    "c = read_file(\"input\")\n",
    "c.execute_program()"
   ]
  },
  {
   "cell_type": "code",
   "execution_count": 22,
   "metadata": {},
   "outputs": [
    {
     "name": "stdout",
     "output_type": "stream",
     "text": [
      "CompState(A=14680, B=0, C=0, program=['adv', 3, 'out', 4, 'jnz', 0], instruction_pointer=2, output=[])\n",
      "CompState(A=14680, B=0, C=0, program=['adv', 3, 'out', 4, 'jnz', 0], instruction_pointer=4, output=[0])\n",
      "CompState(A=14680, B=0, C=0, program=['adv', 3, 'out', 4, 'jnz', 0], instruction_pointer=0, output=[0])\n",
      "CompState(A=1835, B=0, C=0, program=['adv', 3, 'out', 4, 'jnz', 0], instruction_pointer=2, output=[0])\n",
      "CompState(A=1835, B=0, C=0, program=['adv', 3, 'out', 4, 'jnz', 0], instruction_pointer=4, output=[0, 3])\n",
      "CompState(A=1835, B=0, C=0, program=['adv', 3, 'out', 4, 'jnz', 0], instruction_pointer=0, output=[0, 3])\n",
      "CompState(A=229, B=0, C=0, program=['adv', 3, 'out', 4, 'jnz', 0], instruction_pointer=2, output=[0, 3])\n",
      "CompState(A=229, B=0, C=0, program=['adv', 3, 'out', 4, 'jnz', 0], instruction_pointer=4, output=[0, 3, 5])\n",
      "CompState(A=229, B=0, C=0, program=['adv', 3, 'out', 4, 'jnz', 0], instruction_pointer=0, output=[0, 3, 5])\n",
      "CompState(A=28, B=0, C=0, program=['adv', 3, 'out', 4, 'jnz', 0], instruction_pointer=2, output=[0, 3, 5])\n",
      "CompState(A=28, B=0, C=0, program=['adv', 3, 'out', 4, 'jnz', 0], instruction_pointer=4, output=[0, 3, 5, 4])\n",
      "CompState(A=28, B=0, C=0, program=['adv', 3, 'out', 4, 'jnz', 0], instruction_pointer=0, output=[0, 3, 5, 4])\n",
      "CompState(A=3, B=0, C=0, program=['adv', 3, 'out', 4, 'jnz', 0], instruction_pointer=2, output=[0, 3, 5, 4])\n",
      "CompState(A=3, B=0, C=0, program=['adv', 3, 'out', 4, 'jnz', 0], instruction_pointer=4, output=[0, 3, 5, 4, 3])\n",
      "CompState(A=3, B=0, C=0, program=['adv', 3, 'out', 4, 'jnz', 0], instruction_pointer=0, output=[0, 3, 5, 4, 3])\n",
      "CompState(A=0, B=0, C=0, program=['adv', 3, 'out', 4, 'jnz', 0], instruction_pointer=2, output=[0, 3, 5, 4, 3])\n",
      "CompState(A=0, B=0, C=0, program=['adv', 3, 'out', 4, 'jnz', 0], instruction_pointer=4, output=[0, 3, 5, 4, 3, 0])\n",
      "CompState(A=0, B=0, C=0, program=['adv', 3, 'out', 4, 'jnz', 0], instruction_pointer=6, output=[0, 3, 5, 4, 3, 0])\n"
     ]
    },
    {
     "data": {
      "text/plain": [
       "'0,3,5,4,3,0'"
      ]
     },
     "execution_count": 22,
     "metadata": {},
     "output_type": "execute_result"
    }
   ],
   "source": [
    "c = read_file(\"example2\")\n",
    "c.execute_program(debug=True)"
   ]
  },
  {
   "cell_type": "code",
   "execution_count": 48,
   "metadata": {},
   "outputs": [
    {
     "name": "stdout",
     "output_type": "stream",
     "text": [
      "2\n",
      "20\n",
      "161\n",
      "1293\n",
      "10351\n",
      "82813\n",
      "662508\n",
      "5300067\n",
      "42400537\n",
      "339204302\n",
      "2713634416\n",
      "21709075331\n",
      "173672602653\n",
      "1389380821229\n",
      "11115046569835\n",
      "88920372558680\n"
     ]
    }
   ],
   "source": [
    "c = read_file(\"example2\")\n",
    "c.execute_program()\n",
    "needed_digits = list(reversed(c.output))\n",
    "print(needed_digits)\n",
    "\n",
    "regA = 0\n",
    "for i, digit in enumerate(needed_digits):\n",
    "    regA = (regA * 8) + digit\n",
    "    print(regA)"
   ]
  },
  {
   "cell_type": "code",
   "execution_count": 75,
   "metadata": {},
   "outputs": [
    {
     "data": {
      "text/plain": [
       "[3, 2]"
      ]
     },
     "execution_count": 75,
     "metadata": {},
     "output_type": "execute_result"
    }
   ],
   "source": [
    "c = read_file(\"input\")\n",
    "c.execute_program()\n",
    "c.output"
   ]
  },
  {
   "cell_type": "code",
   "execution_count": 82,
   "metadata": {},
   "outputs": [
    {
     "name": "stdout",
     "output_type": "stream",
     "text": [
      "[2, 4, 1, 5, 7, 5, 4, 3, 1, 6, 0, 3, 5, 5, 3, 0] 0\n",
      "[2, 4, 1, 5, 7, 5, 4, 3, 1, 6, 0, 3, 5, 5, 3] 3\n",
      "[2, 4, 1, 5, 7, 5, 4, 3, 1, 6, 0, 3, 5, 5] 24\n",
      "[2, 4, 1, 5, 7, 5, 4, 3, 1, 6, 0, 3, 5] 192\n",
      "[2, 4, 1, 5, 7, 5, 4, 3, 1, 6, 0, 3] 1538\n",
      "[2, 4, 1, 5, 7, 5, 4, 3, 1, 6, 0] 12304\n",
      "[2, 4, 1, 5, 7, 5, 4, 3, 1, 6] 98434\n",
      "[2, 4, 1, 5, 7, 5, 4, 3, 1, 6, 0] 12305\n",
      "[2, 4, 1, 5, 7, 5, 4, 3, 1, 6] 98442\n",
      "[2, 4, 1, 5, 7, 5, 4, 3, 1, 6, 0] 12309\n",
      "[2, 4, 1, 5, 7, 5, 4, 3, 1, 6] 98473\n",
      "[2, 4, 1, 5, 7, 5, 4, 3, 1] 787785\n",
      "[2, 4, 1, 5, 7, 5, 4, 3] 6302280\n",
      "[2, 4, 1, 5, 7, 5, 4] 50418245\n",
      "[2, 4, 1, 5, 7, 5, 4, 3] 6302283\n",
      "[2, 4, 1, 5, 7, 5, 4] 50418269\n",
      "[2, 4, 1, 5, 7, 5] 403346152\n",
      "[2, 4, 1, 5, 7] 3226769219\n",
      "[2, 4, 1, 5, 7] 3226769220\n",
      "[2, 4, 1, 5, 7] 3226769222\n",
      "[2, 4, 1, 5, 7] 3226769223\n",
      "[2, 4, 1, 5, 7, 5] 403346153\n",
      "[2, 4, 1, 5, 7] 3226769227\n",
      "[2, 4, 1, 5] 25814153817\n",
      "[2, 4, 1] 206513230536\n",
      "[2, 4] 1652105844288\n",
      "[2, 4] 1652105844291\n",
      "[2, 4, 1, 5, 7, 5] 403346154\n",
      "[2, 4, 1, 5, 7] 3226769235\n",
      "[2, 4, 1, 5] 25814153880\n",
      "[2, 4, 1] 206513231040\n",
      "[2, 4, 1] 206513231044\n",
      "[2, 4] 1652105848358\n",
      "[2] 13216846786867\n",
      "[] 105734774294938\n",
      "105734774294938\n"
     ]
    }
   ],
   "source": [
    "def check_me(a):\n",
    "    b = a % 8\n",
    "    b = b ^ 5\n",
    "    c = int(a / pow(2, b))\n",
    "    b = b ^ c\n",
    "    b = b ^ 6\n",
    "    a = a / pow(2, 3)\n",
    "    return b % 8\n",
    "\n",
    "\n",
    "def solve(program, ans):\n",
    "    print(program, ans)\n",
    "    if program == []:\n",
    "        return ans\n",
    "    for t in range(8):\n",
    "        a = ans << 3 | t\n",
    "        b = a % 8\n",
    "        b = b ^ 5\n",
    "        c = a >> b\n",
    "        b = b ^ c\n",
    "        b = b ^ 6\n",
    "        if b % 8 == program[-1]:\n",
    "            sub = solve(program[:-1], a)\n",
    "            if sub is None:\n",
    "                continue\n",
    "            return sub\n",
    "\n",
    "\n",
    "print(solve([2, 4, 1, 5, 7, 5, 4, 3, 1, 6, 0, 3, 5, 5, 3, 0], 0))"
   ]
  }
 ],
 "metadata": {
  "kernelspec": {
   "display_name": "Python 3",
   "language": "python",
   "name": "python3"
  },
  "language_info": {
   "codemirror_mode": {
    "name": "ipython",
    "version": 3
   },
   "file_extension": ".py",
   "mimetype": "text/x-python",
   "name": "python",
   "nbconvert_exporter": "python",
   "pygments_lexer": "ipython3",
   "version": "3.12.7"
  }
 },
 "nbformat": 4,
 "nbformat_minor": 2
}
