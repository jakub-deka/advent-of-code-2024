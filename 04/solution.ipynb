{
 "cells": [
  {
   "cell_type": "code",
   "execution_count": 297,
   "metadata": {},
   "outputs": [],
   "source": [
    "import numpy as np\n",
    "\n",
    "\n",
    "def read_file(path: str):\n",
    "    with open(path, \"r\") as f:\n",
    "        res = f.readlines()\n",
    "    res = [list(x.strip()) for x in res]\n",
    "    return np.matrix(res)\n",
    "\n",
    "\n",
    "input = read_file(\"input.txt\")"
   ]
  },
  {
   "cell_type": "code",
   "execution_count": 298,
   "metadata": {},
   "outputs": [
    {
     "data": {
      "text/plain": [
       "matrix([['S', 'S', 'S', ..., 'S', 'S', 'S'],\n",
       "        ['M', 'A', 'A', ..., 'A', 'A', 'A'],\n",
       "        ['M', 'S', 'M', ..., 'M', 'M', 'M'],\n",
       "        ...,\n",
       "        ['M', 'A', 'A', ..., 'A', 'M', 'A'],\n",
       "        ['M', 'S', 'S', ..., 'S', 'X', 'S'],\n",
       "        ['X', 'X', 'A', ..., 'M', 'A', 'X']], dtype='<U1')"
      ]
     },
     "execution_count": 298,
     "metadata": {},
     "output_type": "execute_result"
    }
   ],
   "source": [
    "input"
   ]
  },
  {
   "cell_type": "code",
   "execution_count": 299,
   "metadata": {},
   "outputs": [],
   "source": [
    "from enum import Enum\n",
    "\n",
    "\n",
    "class Direction(Enum):\n",
    "    LEFT = \"l\"\n",
    "    RIGHT = \"r\"\n",
    "    UP = \"u\"\n",
    "    DOWN = \"d\"\n",
    "\n",
    "\n",
    "def get_line(start, end):\n",
    "    start = start[:]\n",
    "    res = []\n",
    "    res.append(start[:])\n",
    "\n",
    "    while start != end:\n",
    "        if start[0] < end[0]:\n",
    "            start[0] += 1\n",
    "        elif start[0] > end[0]:\n",
    "            start[0] += -1\n",
    "\n",
    "        if start[1] < end[1]:\n",
    "            start[1] += 1\n",
    "        elif start[1] > end[1]:\n",
    "            start[1] += -1\n",
    "        res.append(start[:])\n",
    "\n",
    "    return res\n",
    "\n",
    "\n",
    "def construct_start_end(\n",
    "    start: list[int, int], direction: Direction | list[Direction], len: int\n",
    "):\n",
    "    start = start[:]\n",
    "    end = start[:]\n",
    "    direction = [direction] if not isinstance(direction, list) else direction\n",
    "\n",
    "    for partial_direction in direction:\n",
    "        if partial_direction == Direction.RIGHT:\n",
    "            end = [end[0], end[1] + len]\n",
    "        elif partial_direction == Direction.LEFT:\n",
    "            end = [end[0], end[1] - len]\n",
    "        elif partial_direction == Direction.UP:\n",
    "            end = [end[0] - len, end[1]]\n",
    "        elif partial_direction == Direction.DOWN:\n",
    "            end = [end[0] + len, end[1]]\n",
    "\n",
    "    return end\n",
    "\n",
    "\n",
    "def get_start_coords(input_matrix, char: str):\n",
    "    return np.array(np.where(input_matrix == char)).T.tolist()\n",
    "\n",
    "\n",
    "def line_to_str(input, line):\n",
    "    res = [input[*x] for x in line]\n",
    "    return \"\".join(res)"
   ]
  },
  {
   "cell_type": "code",
   "execution_count": 300,
   "metadata": {},
   "outputs": [],
   "source": [
    "x_coords = get_start_coords(input, \"X\")\n",
    "directions = [\n",
    "    Direction.RIGHT,\n",
    "    Direction.LEFT,\n",
    "    Direction.UP,\n",
    "    Direction.DOWN,\n",
    "    [Direction.UP, Direction.LEFT],\n",
    "    [Direction.UP, Direction.RIGHT],\n",
    "    [Direction.DOWN, Direction.LEFT],\n",
    "    [Direction.DOWN, Direction.RIGHT],\n",
    "]\n",
    "\n",
    "rows = input.shape[0] - 1\n",
    "cols = input.shape[1] - 1\n",
    "\n",
    "res = []\n",
    "for x in x_coords:\n",
    "    start = x[:]\n",
    "    for d in directions:\n",
    "        end = construct_start_end(start, d, 3)\n",
    "\n",
    "        if end[0] > rows or end[0] < 0 or end[1] > cols or end[1] < 0:\n",
    "            pass\n",
    "        else:\n",
    "            line = get_line(start, end)\n",
    "            t = line_to_str(input, line)\n",
    "            if t == \"XMAS\":\n",
    "                res.append(\n",
    "                    {\n",
    "                        \"start\": start,\n",
    "                        \"end\": end,\n",
    "                        \"direction\": d,\n",
    "                        \"line\": line,\n",
    "                        \"text\": t,\n",
    "                    }\n",
    "                )"
   ]
  },
  {
   "cell_type": "code",
   "execution_count": 301,
   "metadata": {},
   "outputs": [
    {
     "data": {
      "text/plain": [
       "2644"
      ]
     },
     "execution_count": 301,
     "metadata": {},
     "output_type": "execute_result"
    }
   ],
   "source": [
    "len(res)"
   ]
  },
  {
   "cell_type": "code",
   "execution_count": 302,
   "metadata": {},
   "outputs": [],
   "source": [
    "from itertools import product\n",
    "\n",
    "\n",
    "def get_rotations_around_points(start):\n",
    "    x = [start[0] - 1, start[0], start[0] + 1]\n",
    "    y = [start[1] - 1, start[1], start[1] + 1]\n",
    "    rotations = [[x, y] for x, y in product(x, y) if x != start[0] and y != start[1]]\n",
    "\n",
    "    return rotations\n",
    "\n",
    "\n",
    "def draw_line(points: list[list[int, int]], line_length: int, max_x: int, max_y: int):\n",
    "    \"\"\"Assuming given two adjecent points, this will draw a line crossing thesee points of length provided\"\"\"\n",
    "    p1 = points[0][:]\n",
    "    p2 = points[1][:]\n",
    "    x = p2[0] - p1[0]\n",
    "    y = p2[1] - p1[1]\n",
    "    if abs(x) > 1 or abs(y) > 1:\n",
    "        raise ValueError(f\"Points provided need to be adjecent to each other.\")\n",
    "\n",
    "    line = [p1, p2]\n",
    "    while len(line) < line_length:\n",
    "        last_p = line[-1][:]\n",
    "        last_p[0] += x\n",
    "        last_p[1] += y\n",
    "        line.append(last_p)\n",
    "\n",
    "    return [\n",
    "        x for x in line if x[0] >= 0 and x[1] >= 0 and x[0] <= max_x and x[1] <= max_y\n",
    "    ]\n",
    "\n",
    "\n",
    "def get_strings_for_centre(input, centre):\n",
    "    max_x = input.shape[0] - 1\n",
    "    max_y = input.shape[1] - 1\n",
    "\n",
    "    starts = get_rotations_around_points(centre)\n",
    "    lines = [\n",
    "        draw_line([start_point, centre], 3, max_x, max_y) for start_point in starts\n",
    "    ]\n",
    "    return [line_to_str(input, x) for x in lines]\n",
    "\n",
    "\n",
    "def is_cross(input, centre):\n",
    "    strings = get_strings_for_centre(input, centre)\n",
    "    if strings.count(\"MAS\") >= 2:\n",
    "        return True\n",
    "    else:\n",
    "        return False"
   ]
  },
  {
   "cell_type": "code",
   "execution_count": 303,
   "metadata": {},
   "outputs": [
    {
     "data": {
      "text/plain": [
       "1952"
      ]
     },
     "execution_count": 303,
     "metadata": {},
     "output_type": "execute_result"
    }
   ],
   "source": [
    "a_coords = get_start_coords(input, \"A\")\n",
    "sum([is_cross(input, x) for x in a_coords])"
   ]
  }
 ],
 "metadata": {
  "kernelspec": {
   "display_name": "Python 3",
   "language": "python",
   "name": "python3"
  },
  "language_info": {
   "codemirror_mode": {
    "name": "ipython",
    "version": 3
   },
   "file_extension": ".py",
   "mimetype": "text/x-python",
   "name": "python",
   "nbconvert_exporter": "python",
   "pygments_lexer": "ipython3",
   "version": "3.12.7"
  }
 },
 "nbformat": 4,
 "nbformat_minor": 2
}
