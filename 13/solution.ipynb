{
 "cells": [
  {
   "cell_type": "code",
   "execution_count": 37,
   "metadata": {},
   "outputs": [],
   "source": [
    "from collections import namedtuple\n",
    "from itertools import product\n",
    "\n",
    "\n",
    "Machine = namedtuple(\"Machine\", [\"ax\", \"ay\", \"bx\", \"by\", \"px\", \"py\"])\n",
    "\n",
    "\n",
    "def read_file(path):\n",
    "    machines = []\n",
    "    with open(path, \"r\") as f:\n",
    "        for line in f:\n",
    "            line = line.strip()\n",
    "            segments = (\n",
    "                line.replace(\"+\", \" \").replace(\",\", \" \").replace(\"=\", \" \").split()\n",
    "            )\n",
    "            if line.startswith(\"Button A:\"):\n",
    "                ax = int(segments[3])\n",
    "                ay = int(segments[5])\n",
    "            elif line.startswith(\"Button B:\"):\n",
    "                bx = int(segments[3])\n",
    "                by = int(segments[5])\n",
    "            elif line.startswith(\"Prize:\"):\n",
    "                px = int(segments[2])\n",
    "                py = int(segments[4])\n",
    "                machine = Machine(ax, ay, bx, by, px, py)\n",
    "                machines.append(machine)\n",
    "    return machines\n",
    "\n",
    "\n",
    "input = read_file(\"input\")"
   ]
  },
  {
   "cell_type": "code",
   "execution_count": 38,
   "metadata": {},
   "outputs": [],
   "source": [
    "from math import floor\n",
    "from itertools import product\n",
    "\n",
    "\n",
    "def calc_max_press_count(m):\n",
    "    return floor(min(m.px / m.ax, m.py / m.ay)), floor(min(m.px / m.bx, m.py / m.by))\n",
    "\n",
    "\n",
    "def check_strategy(m, a, b):\n",
    "    return all([a * m.ax + b * m.bx == m.px, a * m.ay + b * m.by == m.py])\n",
    "\n",
    "\n",
    "def price_strategy(a, b, cost_a=3, cost_b=1):\n",
    "    return a * cost_a + b * cost_b"
   ]
  },
  {
   "cell_type": "code",
   "execution_count": 39,
   "metadata": {},
   "outputs": [
    {
     "data": {
      "text/plain": [
       "35082"
      ]
     },
     "execution_count": 39,
     "metadata": {},
     "output_type": "execute_result"
    }
   ],
   "source": [
    "from math import inf\n",
    "\n",
    "\n",
    "res = []\n",
    "for m in input:\n",
    "    maxa, maxb = calc_max_press_count(m)\n",
    "    strategies = list(product(range(101), range(101)))\n",
    "    best_price = inf\n",
    "    for a, b in strategies:\n",
    "        if check_strategy(m, a, b):\n",
    "            price = price_strategy(a, b, 3, 1)\n",
    "            best_price = min([price, best_price])\n",
    "    res.append(0 if best_price == inf else best_price)\n",
    "sum(res)"
   ]
  },
  {
   "cell_type": "code",
   "execution_count": 40,
   "metadata": {},
   "outputs": [],
   "source": [
    "def solve_b(m: Machine) -> float:\n",
    "    num = m.ay * m.px - m.ax * m.py\n",
    "    denom = m.ay * m.bx - m.ax * m.by\n",
    "    return num / denom\n",
    "\n",
    "\n",
    "def solve_a(m: Machine) -> float:\n",
    "    b = solve_b(m)\n",
    "    return (m.px - b * m.bx) / m.ax\n",
    "\n",
    "\n",
    "def solve_machine(m: Machine):\n",
    "    a = solve_a(m)\n",
    "    b = solve_b(m)\n",
    "    if a.is_integer() and b.is_integer():\n",
    "        return a, b\n",
    "    else:\n",
    "        return 0, 0"
   ]
  },
  {
   "cell_type": "code",
   "execution_count": 41,
   "metadata": {},
   "outputs": [],
   "source": [
    "input = [\n",
    "    Machine(\n",
    "        ax=x.ax,\n",
    "        ay=x.ay,\n",
    "        bx=x.bx,\n",
    "        by=x.by,\n",
    "        px=x.px + 10000000000000,\n",
    "        py=x.py + 10000000000000,\n",
    "    )\n",
    "    for x in input\n",
    "]"
   ]
  },
  {
   "cell_type": "code",
   "execution_count": 43,
   "metadata": {},
   "outputs": [
    {
     "data": {
      "text/plain": [
       "82570698600470.0"
      ]
     },
     "execution_count": 43,
     "metadata": {},
     "output_type": "execute_result"
    }
   ],
   "source": [
    "res = []\n",
    "for m in input:\n",
    "    a, b = solve_machine(m)\n",
    "    price = price_strategy(a, b)\n",
    "    res.append(price)\n",
    "\n",
    "sum(res)"
   ]
  }
 ],
 "metadata": {
  "kernelspec": {
   "display_name": "Python 3",
   "language": "python",
   "name": "python3"
  },
  "language_info": {
   "codemirror_mode": {
    "name": "ipython",
    "version": 3
   },
   "file_extension": ".py",
   "mimetype": "text/x-python",
   "name": "python",
   "nbconvert_exporter": "python",
   "pygments_lexer": "ipython3",
   "version": "3.12.7"
  }
 },
 "nbformat": 4,
 "nbformat_minor": 2
}
