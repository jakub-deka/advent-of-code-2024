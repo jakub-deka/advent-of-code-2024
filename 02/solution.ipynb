{
 "cells": [
  {
   "cell_type": "code",
   "execution_count": 121,
   "metadata": {},
   "outputs": [],
   "source": [
    "import numpy as np\n",
    "\n",
    "\n",
    "def read_file(path: str):\n",
    "    with open(path, \"r\") as f:\n",
    "        t = f.readlines()\n",
    "\n",
    "    res = [[int(x) for x in l.strip().split(\" \")] for l in t]\n",
    "\n",
    "    return res\n",
    "\n",
    "\n",
    "def is_safe(l):\n",
    "    diffs = np.array([p - n for p, n in zip(l, l[1:])])\n",
    "    signs = np.unique(np.sign(diffs))\n",
    "\n",
    "    if len(signs) > 1:\n",
    "        return False\n",
    "    elif max(np.abs(diffs)) > 3:\n",
    "        return False\n",
    "    else:\n",
    "        return True\n",
    "\n",
    "\n",
    "def is_safe_with_dampener(l):\n",
    "    if is_safe(l):\n",
    "        return True\n",
    "    else:\n",
    "        res = []\n",
    "        for i in range(len(l)):\n",
    "            new_list = l[:i] + l[i + 1 :]\n",
    "            res.append(is_safe(new_list))\n",
    "        if res.count(True) >= 1:\n",
    "            return True\n",
    "        else:\n",
    "            return False\n",
    "\n",
    "\n",
    "input = read_file(\"input.txt\")"
   ]
  },
  {
   "cell_type": "markdown",
   "metadata": {},
   "source": [
    "# Part 1 solution"
   ]
  },
  {
   "cell_type": "code",
   "execution_count": 78,
   "metadata": {},
   "outputs": [
    {
     "data": {
      "text/plain": [
       "680"
      ]
     },
     "execution_count": 78,
     "metadata": {},
     "output_type": "execute_result"
    }
   ],
   "source": [
    "res = [is_safe(l) for l in input]\n",
    "sum(res)"
   ]
  },
  {
   "cell_type": "markdown",
   "metadata": {},
   "source": [
    "# Part 2 solution"
   ]
  },
  {
   "cell_type": "code",
   "execution_count": 122,
   "metadata": {},
   "outputs": [
    {
     "data": {
      "text/plain": [
       "710"
      ]
     },
     "execution_count": 122,
     "metadata": {},
     "output_type": "execute_result"
    }
   ],
   "source": [
    "res = [is_safe_with_dampener(l) for l in input]\n",
    "sum(res)"
   ]
  },
  {
   "cell_type": "code",
   "execution_count": 95,
   "metadata": {},
   "outputs": [
    {
     "data": {
      "text/plain": [
       "[7, 6, 4, 2, 1]"
      ]
     },
     "execution_count": 95,
     "metadata": {},
     "output_type": "execute_result"
    }
   ],
   "source": [
    "l = input[0]\n",
    "l"
   ]
  },
  {
   "cell_type": "code",
   "execution_count": 119,
   "metadata": {},
   "outputs": [
    {
     "name": "stdout",
     "output_type": "stream",
     "text": [
      "List [7, 6, 4, 2, 1] is True\n",
      "List [1, 2, 7, 8, 9] is False\n",
      "List [9, 7, 6, 2, 1] is False\n",
      "List [1, 3, 2, 4, 5] is True\n",
      "List [8, 6, 4, 4, 1] is True\n",
      "List [1, 3, 6, 7, 9] is True\n"
     ]
    }
   ],
   "source": [
    "for l in input:\n",
    "    res = is_safe_with_dampener(l)\n",
    "    print(f\"List {l} is {res}\")"
   ]
  },
  {
   "cell_type": "code",
   "execution_count": 117,
   "metadata": {},
   "outputs": [
    {
     "name": "stdout",
     "output_type": "stream",
     "text": [
      "[1, 3, 2, 4, 5]\n"
     ]
    },
    {
     "data": {
      "text/plain": [
       "[False, True, True, False, False]"
      ]
     },
     "execution_count": 117,
     "metadata": {},
     "output_type": "execute_result"
    }
   ],
   "source": [
    "l = input[3]\n",
    "print(l)\n",
    "is_safe_with_dampener(l)"
   ]
  }
 ],
 "metadata": {
  "kernelspec": {
   "display_name": "Python 3",
   "language": "python",
   "name": "python3"
  },
  "language_info": {
   "codemirror_mode": {
    "name": "ipython",
    "version": 3
   },
   "file_extension": ".py",
   "mimetype": "text/x-python",
   "name": "python",
   "nbconvert_exporter": "python",
   "pygments_lexer": "ipython3",
   "version": "3.12.7"
  }
 },
 "nbformat": 4,
 "nbformat_minor": 2
}
